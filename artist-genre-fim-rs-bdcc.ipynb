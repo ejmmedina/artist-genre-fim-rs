{
 "cells": [
  {
   "cell_type": "markdown",
   "metadata": {},
   "source": [
    "# Who would you listen to?: A Frequent Itemset Mining and Recommender System approach on the Million Song Dataset"
   ]
  },
  {
   "cell_type": "code",
   "execution_count": 1,
   "metadata": {
    "ExecuteTime": {
     "end_time": "2019-11-14T05:45:06.705907Z",
     "start_time": "2019-11-14T05:45:03.005103Z"
    }
   },
   "outputs": [],
   "source": [
    "import pandas as pd\n",
    "import random\n",
    "import sqlite3"
   ]
  },
  {
   "cell_type": "markdown",
   "metadata": {},
   "source": [
    "## Reading the files"
   ]
  },
  {
   "cell_type": "code",
   "execution_count": 2,
   "metadata": {
    "ExecuteTime": {
     "end_time": "2019-11-14T05:47:49.627556Z",
     "start_time": "2019-11-14T05:45:08.602059Z"
    }
   },
   "outputs": [],
   "source": [
    "# Pandas\n",
    "df_train = pd.read_csv('/mnt/data/public/millionsong/taste/train_triplets.txt',\n",
    "                 delimiter='\\t', usecols=[0, 1, 2],\n",
    "                    names=['user_id', 'song_id', 'play_count'], index_col='song_id')"
   ]
  },
  {
   "cell_type": "code",
   "execution_count": 14,
   "metadata": {
    "ExecuteTime": {
     "end_time": "2019-11-14T05:54:43.835845Z",
     "start_time": "2019-11-14T05:54:43.793342Z"
    }
   },
   "outputs": [],
   "source": [
    "#Connecting to tracks_metadata.db for other information\n",
    "conn = sqlite3.connect('/mnt/data/public/millionsong/AdditionalFiles/track_metadata.db')\n",
    "c = conn.cursor()"
   ]
  },
  {
   "cell_type": "code",
   "execution_count": 13,
   "metadata": {
    "ExecuteTime": {
     "end_time": "2019-11-14T05:52:34.750061Z",
     "start_time": "2019-11-14T05:52:06.479225Z"
    }
   },
   "outputs": [],
   "source": [
    "tracks_db = pd.read_sql('''Select * from songs''', conn).set_index('song_id')"
   ]
  },
  {
   "cell_type": "code",
   "execution_count": 104,
   "metadata": {
    "ExecuteTime": {
     "end_time": "2019-11-14T07:47:53.469727Z",
     "start_time": "2019-11-14T07:44:39.274133Z"
    }
   },
   "outputs": [],
   "source": [
    "orig_table = pd.merge(df_train, tracks_db[['artist_id']], left_index=True, right_index=True, how='left')"
   ]
  },
  {
   "cell_type": "markdown",
   "metadata": {},
   "source": [
    "## EDA"
   ]
  },
  {
   "cell_type": "code",
   "execution_count": 130,
   "metadata": {
    "ExecuteTime": {
     "end_time": "2019-11-14T08:06:54.204766Z",
     "start_time": "2019-11-14T08:03:53.808033Z"
    }
   },
   "outputs": [],
   "source": [
    "filtered = orig_table_a[orig_table_a['play_count']>1]\n",
    "filtered = filtered.groupby(['user_id','artist_id'])['play_count'].sum()"
   ]
  },
  {
   "cell_type": "code",
   "execution_count": 131,
   "metadata": {
    "ExecuteTime": {
     "end_time": "2019-11-14T08:07:00.902722Z",
     "start_time": "2019-11-14T08:06:58.232591Z"
    }
   },
   "outputs": [
    {
     "data": {
      "text/plain": [
       "Text(0, 0.5, 'Frequency')"
      ]
     },
     "execution_count": 131,
     "metadata": {},
     "output_type": "execute_result"
    },
    {
     "data": {
      "image/png": "[encoded data removed]",
      "text/plain": [
       "<Figure size 432x288 with 1 Axes>"
      ]
     },
     "metadata": {
      "needs_background": "light"
     },
     "output_type": "display_data"
    }
   ],
   "source": [
    "fig, ax  = plt.subplots()\n",
    "ax.set_yscale('log')\n",
    "ax.hist(filtered, color='red')\n",
    "ax.set_xlabel(\"Artist Plays\")\n",
    "ax.set_ylabel(\"Frequency\")"
   ]
  },
  {
   "cell_type": "code",
   "execution_count": 16,
   "metadata": {
    "ExecuteTime": {
     "end_time": "2019-11-14T05:57:41.164520Z",
     "start_time": "2019-11-14T05:57:39.763693Z"
    }
   },
   "outputs": [],
   "source": [
    "orig_table.reset_index(drop=True, inplace=True)"
   ]
  },
  {
   "cell_type": "code",
   "execution_count": 17,
   "metadata": {
    "ExecuteTime": {
     "end_time": "2019-11-14T05:58:42.290809Z",
     "start_time": "2019-11-14T05:57:41.315796Z"
    }
   },
   "outputs": [],
   "source": [
    "orig_table = orig_table[orig_table['play_count']>1]"
   ]
  },
  {
   "cell_type": "code",
   "execution_count": 18,
   "metadata": {
    "ExecuteTime": {
     "end_time": "2019-11-14T06:01:08.531355Z",
     "start_time": "2019-11-14T05:58:42.453999Z"
    }
   },
   "outputs": [],
   "source": [
    "orig_table = orig_table.groupby(['user_id', 'artist_id'])['play_count'].sum()"
   ]
  },
  {
   "cell_type": "code",
   "execution_count": 19,
   "metadata": {
    "ExecuteTime": {
     "end_time": "2019-11-14T06:01:15.201839Z",
     "start_time": "2019-11-14T06:01:08.662064Z"
    }
   },
   "outputs": [],
   "source": [
    "orig_table = orig_table.reset_index()"
   ]
  },
  {
   "cell_type": "code",
   "execution_count": 20,
   "metadata": {
    "ExecuteTime": {
     "end_time": "2019-11-14T06:01:15.330137Z",
     "start_time": "2019-11-14T06:01:15.315911Z"
    }
   },
   "outputs": [
    {
     "data": {
      "text/html": [
       "<div>\n",
       "<style scoped>\n",
       "    .dataframe tbody tr th:only-of-type {\n",
       "        vertical-align: middle;\n",
       "    }\n",
       "\n",
       "    .dataframe tbody tr th {\n",
       "        vertical-align: top;\n",
       "    }\n",
       "\n",
       "    .dataframe thead th {\n",
       "        text-align: right;\n",
       "    }\n",
       "</style>\n",
       "<table border=\"1\" class=\"dataframe\">\n",
       "  <thead>\n",
       "    <tr style=\"text-align: right;\">\n",
       "      <th></th>\n",
       "      <th>user_id</th>\n",
       "      <th>artist_id</th>\n",
       "      <th>play_count</th>\n",
       "    </tr>\n",
       "  </thead>\n",
       "  <tbody>\n",
       "    <tr>\n",
       "      <td>0</td>\n",
       "      <td>00000b722001882066dff9d2da8a775658053ea0</td>\n",
       "      <td>ARC07PP1187B9B49E9</td>\n",
       "      <td>2</td>\n",
       "    </tr>\n",
       "    <tr>\n",
       "      <td>1</td>\n",
       "      <td>00001638d6189236866af9bbf309ae6c2347ffdc</td>\n",
       "      <td>AR2DGPY1187FB4CECF</td>\n",
       "      <td>2</td>\n",
       "    </tr>\n",
       "    <tr>\n",
       "      <td>2</td>\n",
       "      <td>00001638d6189236866af9bbf309ae6c2347ffdc</td>\n",
       "      <td>AR5JPWN1187FB5B6DE</td>\n",
       "      <td>2</td>\n",
       "    </tr>\n",
       "    <tr>\n",
       "      <td>3</td>\n",
       "      <td>00001638d6189236866af9bbf309ae6c2347ffdc</td>\n",
       "      <td>AR9HFVQ1187FB4CF6B</td>\n",
       "      <td>31</td>\n",
       "    </tr>\n",
       "    <tr>\n",
       "      <td>4</td>\n",
       "      <td>00001638d6189236866af9bbf309ae6c2347ffdc</td>\n",
       "      <td>ARHUDAN1187B99251C</td>\n",
       "      <td>5</td>\n",
       "    </tr>\n",
       "  </tbody>\n",
       "</table>\n",
       "</div>"
      ],
      "text/plain": [
       "                                    user_id           artist_id  play_count\n",
       "0  00000b722001882066dff9d2da8a775658053ea0  ARC07PP1187B9B49E9           2\n",
       "1  00001638d6189236866af9bbf309ae6c2347ffdc  AR2DGPY1187FB4CECF           2\n",
       "2  00001638d6189236866af9bbf309ae6c2347ffdc  AR5JPWN1187FB5B6DE           2\n",
       "3  00001638d6189236866af9bbf309ae6c2347ffdc  AR9HFVQ1187FB4CF6B          31\n",
       "4  00001638d6189236866af9bbf309ae6c2347ffdc  ARHUDAN1187B99251C           5"
      ]
     },
     "execution_count": 20,
     "metadata": {},
     "output_type": "execute_result"
    }
   ],
   "source": [
    "orig_table.head()"
   ]
  },
  {
   "cell_type": "code",
   "execution_count": 21,
   "metadata": {
    "ExecuteTime": {
     "end_time": "2019-11-14T06:01:18.636149Z",
     "start_time": "2019-11-14T06:01:15.443023Z"
    }
   },
   "outputs": [
    {
     "data": {
      "text/plain": [
       "count    1.305552e+07\n",
       "mean     8.626683e+00\n",
       "std      1.730619e+01\n",
       "min      2.000000e+00\n",
       "25%      2.000000e+00\n",
       "50%      5.000000e+00\n",
       "75%      8.000000e+00\n",
       "max      9.667000e+03\n",
       "Name: play_count, dtype: float64"
      ]
     },
     "execution_count": 21,
     "metadata": {},
     "output_type": "execute_result"
    }
   ],
   "source": [
    "orig_table['play_count'].describe()"
   ]
  },
  {
   "cell_type": "code",
   "execution_count": 22,
   "metadata": {
    "ExecuteTime": {
     "end_time": "2019-11-14T06:01:30.925161Z",
     "start_time": "2019-11-14T06:01:18.772212Z"
    }
   },
   "outputs": [],
   "source": [
    "orig_table['play_count'] = orig_table.play_count.apply(lambda x: 1 if x==2 else (2 if x<=4 else (3 if x<=8 else 4)))"
   ]
  },
  {
   "cell_type": "code",
   "execution_count": 132,
   "metadata": {
    "ExecuteTime": {
     "end_time": "2019-11-14T08:14:41.495002Z",
     "start_time": "2019-11-14T08:14:37.926720Z"
    }
   },
   "outputs": [],
   "source": [
    "sampled_users = np.random.choice(orig_table['user_id'].unique(), 10000, False)"
   ]
  },
  {
   "cell_type": "code",
   "execution_count": 133,
   "metadata": {
    "ExecuteTime": {
     "end_time": "2019-11-14T08:14:46.270244Z",
     "start_time": "2019-11-14T08:14:44.631625Z"
    }
   },
   "outputs": [],
   "source": [
    "sampled_table = orig_table[orig_table['user_id'].isin(sampled_users)]"
   ]
  },
  {
   "cell_type": "markdown",
   "metadata": {},
   "source": [
    "## Train a recommender system for artists"
   ]
  },
  {
   "cell_type": "code",
   "execution_count": 168,
   "metadata": {
    "ExecuteTime": {
     "end_time": "2019-11-14T09:13:17.511427Z",
     "start_time": "2019-11-14T09:11:41.016101Z"
    },
    "scrolled": true
   },
   "outputs": [
    {
     "name": "stdout",
     "output_type": "stream",
     "text": [
      "RMSE: 1.1036\n"
     ]
    },
    {
     "data": {
      "text/plain": [
       "1.1035538610400073"
      ]
     },
     "execution_count": 168,
     "metadata": {},
     "output_type": "execute_result"
    }
   ],
   "source": [
    "from surprise import (Reader, Dataset, KNNWithMeans, SVDpp)\n",
    "from surprise.model_selection import train_test_split\n",
    "from surprise.accuracy import rmse\n",
    "\n",
    "# for k in range(2,1000,20):\n",
    "knn = SVDpp()\n",
    "reader = Reader(rating_scale=(1,4))\n",
    "dataset = Dataset.load_from_df(sampled_table, reader)\n",
    "\n",
    "trainset, testset = train_test_split(dataset, test_size=0.25)\n",
    "predictions = knn.fit(trainset).test(testset)\n",
    "rmse(predictions)"
   ]
  },
  {
   "cell_type": "code",
   "execution_count": 26,
   "metadata": {
    "ExecuteTime": {
     "end_time": "2019-11-14T06:05:14.171274Z",
     "start_time": "2019-11-14T06:05:14.154885Z"
    }
   },
   "outputs": [
    {
     "data": {
      "text/html": [
       "<div>\n",
       "<style scoped>\n",
       "    .dataframe tbody tr th:only-of-type {\n",
       "        vertical-align: middle;\n",
       "    }\n",
       "\n",
       "    .dataframe tbody tr th {\n",
       "        vertical-align: top;\n",
       "    }\n",
       "\n",
       "    .dataframe thead th {\n",
       "        text-align: right;\n",
       "    }\n",
       "</style>\n",
       "<table border=\"1\" class=\"dataframe\">\n",
       "  <thead>\n",
       "    <tr style=\"text-align: right;\">\n",
       "      <th></th>\n",
       "      <th>user_id</th>\n",
       "      <th>artist_id</th>\n",
       "      <th>play_count</th>\n",
       "    </tr>\n",
       "  </thead>\n",
       "  <tbody>\n",
       "    <tr>\n",
       "      <td>27768</td>\n",
       "      <td>008cb410c22ad601c9b689bdaf66725b5a9107ed</td>\n",
       "      <td>AR1UR7X1187FB50596</td>\n",
       "      <td>2</td>\n",
       "    </tr>\n",
       "    <tr>\n",
       "      <td>27769</td>\n",
       "      <td>008cb410c22ad601c9b689bdaf66725b5a9107ed</td>\n",
       "      <td>AR35ZOY1187B98C79D</td>\n",
       "      <td>4</td>\n",
       "    </tr>\n",
       "    <tr>\n",
       "      <td>27770</td>\n",
       "      <td>008cb410c22ad601c9b689bdaf66725b5a9107ed</td>\n",
       "      <td>AR45CGR1187FB3BCC5</td>\n",
       "      <td>1</td>\n",
       "    </tr>\n",
       "    <tr>\n",
       "      <td>27771</td>\n",
       "      <td>008cb410c22ad601c9b689bdaf66725b5a9107ed</td>\n",
       "      <td>AR5MX2X1187FB3874F</td>\n",
       "      <td>1</td>\n",
       "    </tr>\n",
       "    <tr>\n",
       "      <td>27772</td>\n",
       "      <td>008cb410c22ad601c9b689bdaf66725b5a9107ed</td>\n",
       "      <td>AR65K7A1187FB4DAA4</td>\n",
       "      <td>1</td>\n",
       "    </tr>\n",
       "  </tbody>\n",
       "</table>\n",
       "</div>"
      ],
      "text/plain": [
       "                                        user_id           artist_id  \\\n",
       "27768  008cb410c22ad601c9b689bdaf66725b5a9107ed  AR1UR7X1187FB50596   \n",
       "27769  008cb410c22ad601c9b689bdaf66725b5a9107ed  AR35ZOY1187B98C79D   \n",
       "27770  008cb410c22ad601c9b689bdaf66725b5a9107ed  AR45CGR1187FB3BCC5   \n",
       "27771  008cb410c22ad601c9b689bdaf66725b5a9107ed  AR5MX2X1187FB3874F   \n",
       "27772  008cb410c22ad601c9b689bdaf66725b5a9107ed  AR65K7A1187FB4DAA4   \n",
       "\n",
       "       play_count  \n",
       "27768           2  \n",
       "27769           4  \n",
       "27770           1  \n",
       "27771           1  \n",
       "27772           1  "
      ]
     },
     "execution_count": 26,
     "metadata": {},
     "output_type": "execute_result"
    }
   ],
   "source": [
    "sampled_table.head()"
   ]
  },
  {
   "cell_type": "code",
   "execution_count": 192,
   "metadata": {
    "ExecuteTime": {
     "end_time": "2019-11-14T10:26:38.931786Z",
     "start_time": "2019-11-14T10:26:38.838164Z"
    }
   },
   "outputs": [],
   "source": [
    "top10users = sampled_table['user_id'].value_counts()[:10]"
   ]
  },
  {
   "cell_type": "code",
   "execution_count": 193,
   "metadata": {
    "ExecuteTime": {
     "end_time": "2019-11-14T10:26:42.699853Z",
     "start_time": "2019-11-14T10:26:42.682751Z"
    }
   },
   "outputs": [
    {
     "data": {
      "text/plain": [
       "a15075a926c1998d91940f118342ba8356efc7d4    345\n",
       "e5b1a35349132afe4f96dd6b39cdc4d94031eb1b    260\n",
       "1d6cbd66794057c2e41c72500a628ae9609cd7bd    195\n",
       "3f1037fb3a74f351cd61fff169a54896d2be06f9    144\n",
       "74007a0653e621614f4924840c3105363daab7b5    142\n",
       "19cf743325b4c048d1385bb00d2aa1c9d4f0dd68    138\n",
       "10a426c4c969a2854bf2271a1e2836a014d85f9f    132\n",
       "44e9fc0a19baae46454c4e42123ee2db628770cd    131\n",
       "954db6d4c27e4ddafc92373722cf324bfb5f93ea    127\n",
       "8639f738b6e581bf7f12a83e21443874a7b18f38    127\n",
       "Name: user_id, dtype: int64"
      ]
     },
     "execution_count": 193,
     "metadata": {},
     "output_type": "execute_result"
    }
   ],
   "source": [
    "top10users"
   ]
  },
  {
   "cell_type": "code",
   "execution_count": 28,
   "metadata": {
    "ExecuteTime": {
     "end_time": "2019-11-14T06:05:14.782246Z",
     "start_time": "2019-11-14T06:05:14.755740Z"
    }
   },
   "outputs": [
    {
     "data": {
      "text/html": [
       "<div>\n",
       "<style scoped>\n",
       "    .dataframe tbody tr th:only-of-type {\n",
       "        vertical-align: middle;\n",
       "    }\n",
       "\n",
       "    .dataframe tbody tr th {\n",
       "        vertical-align: top;\n",
       "    }\n",
       "\n",
       "    .dataframe thead th {\n",
       "        text-align: right;\n",
       "    }\n",
       "</style>\n",
       "<table border=\"1\" class=\"dataframe\">\n",
       "  <thead>\n",
       "    <tr style=\"text-align: right;\">\n",
       "      <th></th>\n",
       "      <th>user_id</th>\n",
       "      <th>artist_id</th>\n",
       "      <th>play_count</th>\n",
       "    </tr>\n",
       "  </thead>\n",
       "  <tbody>\n",
       "    <tr>\n",
       "      <td>27768</td>\n",
       "      <td>008cb410c22ad601c9b689bdaf66725b5a9107ed</td>\n",
       "      <td>AR1UR7X1187FB50596</td>\n",
       "      <td>2</td>\n",
       "    </tr>\n",
       "    <tr>\n",
       "      <td>27769</td>\n",
       "      <td>008cb410c22ad601c9b689bdaf66725b5a9107ed</td>\n",
       "      <td>AR35ZOY1187B98C79D</td>\n",
       "      <td>4</td>\n",
       "    </tr>\n",
       "    <tr>\n",
       "      <td>27770</td>\n",
       "      <td>008cb410c22ad601c9b689bdaf66725b5a9107ed</td>\n",
       "      <td>AR45CGR1187FB3BCC5</td>\n",
       "      <td>1</td>\n",
       "    </tr>\n",
       "    <tr>\n",
       "      <td>27771</td>\n",
       "      <td>008cb410c22ad601c9b689bdaf66725b5a9107ed</td>\n",
       "      <td>AR5MX2X1187FB3874F</td>\n",
       "      <td>1</td>\n",
       "    </tr>\n",
       "    <tr>\n",
       "      <td>27772</td>\n",
       "      <td>008cb410c22ad601c9b689bdaf66725b5a9107ed</td>\n",
       "      <td>AR65K7A1187FB4DAA4</td>\n",
       "      <td>1</td>\n",
       "    </tr>\n",
       "    <tr>\n",
       "      <td>...</td>\n",
       "      <td>...</td>\n",
       "      <td>...</td>\n",
       "      <td>...</td>\n",
       "    </tr>\n",
       "    <tr>\n",
       "      <td>13044964</td>\n",
       "      <td>ffcd64564aba2a1eed8cb0afcbc313903261d542</td>\n",
       "      <td>ARVV61U1187FB4FC32</td>\n",
       "      <td>2</td>\n",
       "    </tr>\n",
       "    <tr>\n",
       "      <td>13044965</td>\n",
       "      <td>ffcd64564aba2a1eed8cb0afcbc313903261d542</td>\n",
       "      <td>ARVXU2X1187B9AE6D8</td>\n",
       "      <td>2</td>\n",
       "    </tr>\n",
       "    <tr>\n",
       "      <td>13044966</td>\n",
       "      <td>ffcd64564aba2a1eed8cb0afcbc313903261d542</td>\n",
       "      <td>ARXWEBP1187B99BF48</td>\n",
       "      <td>4</td>\n",
       "    </tr>\n",
       "    <tr>\n",
       "      <td>13044967</td>\n",
       "      <td>ffcd64564aba2a1eed8cb0afcbc313903261d542</td>\n",
       "      <td>ARYQES41187B9B960F</td>\n",
       "      <td>3</td>\n",
       "    </tr>\n",
       "    <tr>\n",
       "      <td>13044968</td>\n",
       "      <td>ffcd64564aba2a1eed8cb0afcbc313903261d542</td>\n",
       "      <td>ARZ6IGY1187B98EB94</td>\n",
       "      <td>2</td>\n",
       "    </tr>\n",
       "  </tbody>\n",
       "</table>\n",
       "<p>13391 rows × 3 columns</p>\n",
       "</div>"
      ],
      "text/plain": [
       "                                           user_id           artist_id  \\\n",
       "27768     008cb410c22ad601c9b689bdaf66725b5a9107ed  AR1UR7X1187FB50596   \n",
       "27769     008cb410c22ad601c9b689bdaf66725b5a9107ed  AR35ZOY1187B98C79D   \n",
       "27770     008cb410c22ad601c9b689bdaf66725b5a9107ed  AR45CGR1187FB3BCC5   \n",
       "27771     008cb410c22ad601c9b689bdaf66725b5a9107ed  AR5MX2X1187FB3874F   \n",
       "27772     008cb410c22ad601c9b689bdaf66725b5a9107ed  AR65K7A1187FB4DAA4   \n",
       "...                                            ...                 ...   \n",
       "13044964  ffcd64564aba2a1eed8cb0afcbc313903261d542  ARVV61U1187FB4FC32   \n",
       "13044965  ffcd64564aba2a1eed8cb0afcbc313903261d542  ARVXU2X1187B9AE6D8   \n",
       "13044966  ffcd64564aba2a1eed8cb0afcbc313903261d542  ARXWEBP1187B99BF48   \n",
       "13044967  ffcd64564aba2a1eed8cb0afcbc313903261d542  ARYQES41187B9B960F   \n",
       "13044968  ffcd64564aba2a1eed8cb0afcbc313903261d542  ARZ6IGY1187B98EB94   \n",
       "\n",
       "          play_count  \n",
       "27768              2  \n",
       "27769              4  \n",
       "27770              1  \n",
       "27771              1  \n",
       "27772              1  \n",
       "...              ...  \n",
       "13044964           2  \n",
       "13044965           2  \n",
       "13044966           4  \n",
       "13044967           3  \n",
       "13044968           2  \n",
       "\n",
       "[13391 rows x 3 columns]"
      ]
     },
     "execution_count": 28,
     "metadata": {},
     "output_type": "execute_result"
    }
   ],
   "source": [
    "sampled_table"
   ]
  },
  {
   "cell_type": "markdown",
   "metadata": {},
   "source": [
    "## Apply the trained model to artists that a user hasn't listened to"
   ]
  },
  {
   "cell_type": "code",
   "execution_count": 29,
   "metadata": {
    "ExecuteTime": {
     "end_time": "2019-11-14T06:05:15.051414Z",
     "start_time": "2019-11-14T06:05:15.030667Z"
    }
   },
   "outputs": [],
   "source": [
    "one_user_existing = sampled_table[sampled_table['user_id']==sampled_table.iloc[0,0]]"
   ]
  },
  {
   "cell_type": "code",
   "execution_count": 169,
   "metadata": {
    "ExecuteTime": {
     "end_time": "2019-11-14T09:16:35.872825Z",
     "start_time": "2019-11-14T09:16:35.862334Z"
    }
   },
   "outputs": [],
   "source": [
    "def missing_artists(user, rounded=True):\n",
    "    untried_artists = sampled_table[~sampled_table['artist_id'].isin(\n",
    "        sampled_table.loc[sampled_table['user_id']==user,\n",
    "                          'artist_id'])]['artist_id'].unique()\n",
    "    one_user_missing = pd.DataFrame(columns=one_user_existing.columns)\n",
    "    for artist in untried_artists:\n",
    "        one_user_missing = one_user_missing.append(pd.Series({'user_id':user,\n",
    "                                   'artist_id':artist,\n",
    "                                   'play_count':knn.predict(user, artist).est}),\n",
    "                            ignore_index=True)\n",
    "    if rounded:\n",
    "        one_user_missing['play_count_round'] = one_user_missing['play_count'].round()\n",
    "    return one_user_missing"
   ]
  },
  {
   "cell_type": "code",
   "execution_count": 170,
   "metadata": {
    "ExecuteTime": {
     "end_time": "2019-11-14T09:16:40.041983Z",
     "start_time": "2019-11-14T09:16:40.031393Z"
    }
   },
   "outputs": [],
   "source": [
    "conn2 = sqlite3.connect('/mnt/data/public/millionsong/AdditionalFiles/artist_term.db')\n",
    "c = conn2.cursor()"
   ]
  },
  {
   "cell_type": "code",
   "execution_count": 171,
   "metadata": {
    "ExecuteTime": {
     "end_time": "2019-11-14T09:16:49.099020Z",
     "start_time": "2019-11-14T09:16:44.213549Z"
    }
   },
   "outputs": [],
   "source": [
    "artist_db = pd.read_sql('''SELECT * FROM artist_term''', conn2).set_index('artist_id')"
   ]
  },
  {
   "cell_type": "code",
   "execution_count": 172,
   "metadata": {
    "ExecuteTime": {
     "end_time": "2019-11-14T09:18:42.389792Z",
     "start_time": "2019-11-14T09:18:42.377195Z"
    }
   },
   "outputs": [
    {
     "data": {
      "text/html": [
       "<div>\n",
       "<style scoped>\n",
       "    .dataframe tbody tr th:only-of-type {\n",
       "        vertical-align: middle;\n",
       "    }\n",
       "\n",
       "    .dataframe tbody tr th {\n",
       "        vertical-align: top;\n",
       "    }\n",
       "\n",
       "    .dataframe thead th {\n",
       "        text-align: right;\n",
       "    }\n",
       "</style>\n",
       "<table border=\"1\" class=\"dataframe\">\n",
       "  <thead>\n",
       "    <tr style=\"text-align: right;\">\n",
       "      <th></th>\n",
       "      <th>term</th>\n",
       "    </tr>\n",
       "    <tr>\n",
       "      <th>artist_id</th>\n",
       "      <th></th>\n",
       "    </tr>\n",
       "  </thead>\n",
       "  <tbody>\n",
       "    <tr>\n",
       "      <td>AR002UA1187B9A637D</td>\n",
       "      <td>garage rock</td>\n",
       "    </tr>\n",
       "    <tr>\n",
       "      <td>AR002UA1187B9A637D</td>\n",
       "      <td>country rock</td>\n",
       "    </tr>\n",
       "    <tr>\n",
       "      <td>AR002UA1187B9A637D</td>\n",
       "      <td>free jazz</td>\n",
       "    </tr>\n",
       "    <tr>\n",
       "      <td>AR002UA1187B9A637D</td>\n",
       "      <td>oi</td>\n",
       "    </tr>\n",
       "    <tr>\n",
       "      <td>AR002UA1187B9A637D</td>\n",
       "      <td>space rock</td>\n",
       "    </tr>\n",
       "  </tbody>\n",
       "</table>\n",
       "</div>"
      ],
      "text/plain": [
       "                            term\n",
       "artist_id                       \n",
       "AR002UA1187B9A637D   garage rock\n",
       "AR002UA1187B9A637D  country rock\n",
       "AR002UA1187B9A637D     free jazz\n",
       "AR002UA1187B9A637D            oi\n",
       "AR002UA1187B9A637D    space rock"
      ]
     },
     "execution_count": 172,
     "metadata": {},
     "output_type": "execute_result"
    }
   ],
   "source": [
    "artist_db.head()"
   ]
  },
  {
   "cell_type": "markdown",
   "metadata": {},
   "source": [
    "## Get the similarity of artists in genre"
   ]
  },
  {
   "cell_type": "code",
   "execution_count": 182,
   "metadata": {
    "ExecuteTime": {
     "end_time": "2019-11-14T10:20:26.435032Z",
     "start_time": "2019-11-14T10:20:26.422491Z"
    }
   },
   "outputs": [],
   "source": [
    "def get_dist(artist1, artist2):\n",
    "    if artist1 in artist_db.index:\n",
    "        genre1 = artist_db.loc[artist1]\n",
    "    else:\n",
    "        return 0\n",
    "    \n",
    "    if artist2 in artist_db.index:\n",
    "        genre2 = artist_db.loc[artist2]\n",
    "    else:\n",
    "        return 0\n",
    "    \n",
    "    if type(genre1.term)!=str:\n",
    "        gen1 = set(genre1.term.values)\n",
    "    else:\n",
    "        gen1 = {genre1.term}\n",
    "        \n",
    "    if type(genre2.term)!=str:\n",
    "        gen2 = set(genre2.term.values)\n",
    "    else:\n",
    "        gen2 = {genre2.term}\n",
    "    jac_sim = len(gen1.intersection(gen2)) / len(gen1.union(gen2))\n",
    "#     print(len(gen1), len(gen2), len(gen1.intersection(gen2)), jac_sim)\n",
    "    return jac_sim"
   ]
  },
  {
   "cell_type": "code",
   "execution_count": 194,
   "metadata": {
    "ExecuteTime": {
     "end_time": "2019-11-14T10:27:01.343155Z",
     "start_time": "2019-11-14T10:27:01.219800Z"
    }
   },
   "outputs": [
    {
     "data": {
      "text/html": [
       "<div>\n",
       "<style scoped>\n",
       "    .dataframe tbody tr th:only-of-type {\n",
       "        vertical-align: middle;\n",
       "    }\n",
       "\n",
       "    .dataframe tbody tr th {\n",
       "        vertical-align: top;\n",
       "    }\n",
       "\n",
       "    .dataframe thead th {\n",
       "        text-align: right;\n",
       "    }\n",
       "</style>\n",
       "<table border=\"1\" class=\"dataframe\">\n",
       "  <thead>\n",
       "    <tr style=\"text-align: right;\">\n",
       "      <th></th>\n",
       "      <th>user_id</th>\n",
       "      <th>artist_id</th>\n",
       "      <th>play_count</th>\n",
       "    </tr>\n",
       "  </thead>\n",
       "  <tbody>\n",
       "    <tr>\n",
       "      <td>833509</td>\n",
       "      <td>10a426c4c969a2854bf2271a1e2836a014d85f9f</td>\n",
       "      <td>AR0A9UD1187B9AC521</td>\n",
       "      <td>4</td>\n",
       "    </tr>\n",
       "    <tr>\n",
       "      <td>833510</td>\n",
       "      <td>10a426c4c969a2854bf2271a1e2836a014d85f9f</td>\n",
       "      <td>AR0AJG11187FB51EFC</td>\n",
       "      <td>2</td>\n",
       "    </tr>\n",
       "    <tr>\n",
       "      <td>833511</td>\n",
       "      <td>10a426c4c969a2854bf2271a1e2836a014d85f9f</td>\n",
       "      <td>AR0L04E1187B9AE90C</td>\n",
       "      <td>1</td>\n",
       "    </tr>\n",
       "    <tr>\n",
       "      <td>833512</td>\n",
       "      <td>10a426c4c969a2854bf2271a1e2836a014d85f9f</td>\n",
       "      <td>AR0XOGM1187B9B3754</td>\n",
       "      <td>3</td>\n",
       "    </tr>\n",
       "    <tr>\n",
       "      <td>833513</td>\n",
       "      <td>10a426c4c969a2854bf2271a1e2836a014d85f9f</td>\n",
       "      <td>AR190KO1187B9905EC</td>\n",
       "      <td>3</td>\n",
       "    </tr>\n",
       "    <tr>\n",
       "      <td>...</td>\n",
       "      <td>...</td>\n",
       "      <td>...</td>\n",
       "      <td>...</td>\n",
       "    </tr>\n",
       "    <tr>\n",
       "      <td>11709438</td>\n",
       "      <td>e5b1a35349132afe4f96dd6b39cdc4d94031eb1b</td>\n",
       "      <td>ARYW3V11187B99C8C9</td>\n",
       "      <td>1</td>\n",
       "    </tr>\n",
       "    <tr>\n",
       "      <td>11709439</td>\n",
       "      <td>e5b1a35349132afe4f96dd6b39cdc4d94031eb1b</td>\n",
       "      <td>ARZ3TJ01187B989C6E</td>\n",
       "      <td>3</td>\n",
       "    </tr>\n",
       "    <tr>\n",
       "      <td>11709440</td>\n",
       "      <td>e5b1a35349132afe4f96dd6b39cdc4d94031eb1b</td>\n",
       "      <td>ARZENOX1187B98A645</td>\n",
       "      <td>4</td>\n",
       "    </tr>\n",
       "    <tr>\n",
       "      <td>11709441</td>\n",
       "      <td>e5b1a35349132afe4f96dd6b39cdc4d94031eb1b</td>\n",
       "      <td>ARZQ1KI1187FB4E578</td>\n",
       "      <td>1</td>\n",
       "    </tr>\n",
       "    <tr>\n",
       "      <td>11709442</td>\n",
       "      <td>e5b1a35349132afe4f96dd6b39cdc4d94031eb1b</td>\n",
       "      <td>ARZZ5ZR1187FB4D149</td>\n",
       "      <td>4</td>\n",
       "    </tr>\n",
       "  </tbody>\n",
       "</table>\n",
       "<p>1741 rows × 3 columns</p>\n",
       "</div>"
      ],
      "text/plain": [
       "                                           user_id           artist_id  \\\n",
       "833509    10a426c4c969a2854bf2271a1e2836a014d85f9f  AR0A9UD1187B9AC521   \n",
       "833510    10a426c4c969a2854bf2271a1e2836a014d85f9f  AR0AJG11187FB51EFC   \n",
       "833511    10a426c4c969a2854bf2271a1e2836a014d85f9f  AR0L04E1187B9AE90C   \n",
       "833512    10a426c4c969a2854bf2271a1e2836a014d85f9f  AR0XOGM1187B9B3754   \n",
       "833513    10a426c4c969a2854bf2271a1e2836a014d85f9f  AR190KO1187B9905EC   \n",
       "...                                            ...                 ...   \n",
       "11709438  e5b1a35349132afe4f96dd6b39cdc4d94031eb1b  ARYW3V11187B99C8C9   \n",
       "11709439  e5b1a35349132afe4f96dd6b39cdc4d94031eb1b  ARZ3TJ01187B989C6E   \n",
       "11709440  e5b1a35349132afe4f96dd6b39cdc4d94031eb1b  ARZENOX1187B98A645   \n",
       "11709441  e5b1a35349132afe4f96dd6b39cdc4d94031eb1b  ARZQ1KI1187FB4E578   \n",
       "11709442  e5b1a35349132afe4f96dd6b39cdc4d94031eb1b  ARZZ5ZR1187FB4D149   \n",
       "\n",
       "          play_count  \n",
       "833509             4  \n",
       "833510             2  \n",
       "833511             1  \n",
       "833512             3  \n",
       "833513             3  \n",
       "...              ...  \n",
       "11709438           1  \n",
       "11709439           3  \n",
       "11709440           4  \n",
       "11709441           1  \n",
       "11709442           4  \n",
       "\n",
       "[1741 rows x 3 columns]"
      ]
     },
     "execution_count": 194,
     "metadata": {},
     "output_type": "execute_result"
    }
   ],
   "source": [
    "sampled_table[sampled_table['user_id'].isin(top10users.index)]"
   ]
  },
  {
   "cell_type": "code",
   "execution_count": null,
   "metadata": {
    "ExecuteTime": {
     "start_time": "2019-11-14T10:27:04.354Z"
    }
   },
   "outputs": [],
   "source": [
    "genre_dist = pd.DataFrame(columns=['user_id', 'artist_id', 'sim', 'score'])\n",
    "\n",
    "for user in top10users.index:\n",
    "# for user in random.sample(sampled_table['user_id'].unique().tolist(), 10):\n",
    "    one_user_existing = sampled_table[sampled_table['user_id']==user]\n",
    "    one_user_missing = missing_artists(user)\n",
    "    for i in range(1, 5):\n",
    "        rating_missing_i = one_user_missing[one_user_missing['play_count_round']==i]\n",
    "        rating_existing_i = one_user_existing[one_user_existing['play_count']==i]\n",
    "        for artist in rating_missing_i['artist_id']:\n",
    "            sim = rating_existing_i['artist_id'].apply(lambda x: get_dist(x, artist)).mean()\n",
    "#             print(sim)\n",
    "            genre_dist = genre_dist.append(pd.Series({'user_id':user,\n",
    "                                   'artist_id':artist,\n",
    "                                   'sim':sim,\n",
    "                                   'score':i,\n",
    "                                   'score_unrounded':knn.predict(user, artist).est}),\n",
    "                            ignore_index=True)\n",
    "#     print(user)\n",
    "    genre_dist.to_pickle('sim_vs_score_artist_recom_to_a_user2.pickle')\n",
    "#             break\n",
    "#         break\n",
    "#     break"
   ]
  },
  {
   "cell_type": "code",
   "execution_count": null,
   "metadata": {
    "ExecuteTime": {
     "end_time": "2019-11-14T09:57:41.177726Z",
     "start_time": "2019-11-14T09:21:27.758313Z"
    }
   },
   "outputs": [],
   "source": [
    "genre_dist2 = pd.DataFrame(columns=['user_id', 'artist_id', 'sim', 'score'])\n",
    "\n",
    "for user in top10users.index:\n",
    "# for user in random.sample(sampled_table['user_id'].unique().tolist(), 10):\n",
    "    one_user_existing = sampled_table[sampled_table['user_id']==user]\n",
    "    one_user_missing = missing_artists(user)\n",
    "    for i in range(1, 5):\n",
    "        rating_missing_i = one_user_missing[one_user_missing['play_count_round']==i]\n",
    "        rating_existing_i = one_user_existing[one_user_existing['play_count']==i]\n",
    "        for artist in rating_missing_i['artist_id']:\n",
    "            sim = rating_existing_i['artist_id'].apply(lambda x: get_dist(x, artist)).mean()\n",
    "#             print(user, artist)\n",
    "            genre_dist2 = genre_dist.append(pd.Series({'user_id':user,\n",
    "                                   'artist_id':artist,\n",
    "                                   'sim':sim,\n",
    "                                   'score':i,\n",
    "                                    'score_unrounded':knn.predict(user, artist).est}),\n",
    "                            ignore_index=True)\n",
    "#     print(user)\n",
    "    genre_dist.to_pickle('sim_vs_score_artist_recom_to_a_user.pickle')\n",
    "#             break\n",
    "#         break\n",
    "#     break"
   ]
  },
  {
   "cell_type": "code",
   "execution_count": 178,
   "metadata": {
    "ExecuteTime": {
     "end_time": "2019-11-14T09:58:53.405897Z",
     "start_time": "2019-11-14T09:58:53.396561Z"
    }
   },
   "outputs": [],
   "source": [
    "genre_dist = pd.read_pickle('sim_vs_score_artist_recom_to_a_user.pickle')"
   ]
  },
  {
   "cell_type": "markdown",
   "metadata": {},
   "source": [
    "## Genre similarity vs recommendation\n",
    "We want to check whether the recommendation is solely based on the artists being on the same genre or not."
   ]
  },
  {
   "cell_type": "code",
   "execution_count": 158,
   "metadata": {
    "ExecuteTime": {
     "end_time": "2019-11-14T08:56:50.213260Z",
     "start_time": "2019-11-14T08:56:49.680282Z"
    }
   },
   "outputs": [
    {
     "data": {
      "text/plain": [
       "<matplotlib.collections.PathCollection at 0x7f8a323aa198>"
      ]
     },
     "execution_count": 158,
     "metadata": {},
     "output_type": "execute_result"
    },
    {
     "data": {
      "image/png": "[encoded data removed]",
      "text/plain": [
       "<Figure size 432x288 with 1 Axes>"
      ]
     },
     "metadata": {
      "needs_background": "light"
     },
     "output_type": "display_data"
    }
   ],
   "source": [
    "genre_dist_garage = genre_dist[genre_dist['artist_id'].isin(artist_db[artist_db['term']=='piano blues'].index)]\n",
    "plt.scatter(genre_dist_garage['score'], genre_dist_garage['sim'])"
   ]
  },
  {
   "cell_type": "markdown",
   "metadata": {},
   "source": [
    "The lack of a trend implies that the recommendation is not affected much by genre."
   ]
  },
  {
   "cell_type": "markdown",
   "metadata": {},
   "source": [
    "## Genre EDA"
   ]
  },
  {
   "cell_type": "code",
   "execution_count": 100,
   "metadata": {
    "ExecuteTime": {
     "end_time": "2019-11-14T07:29:09.948952Z",
     "start_time": "2019-11-14T07:29:07.080888Z"
    }
   },
   "outputs": [],
   "source": [
    "terms = artist_db.reset_index().groupby('term').count()\n",
    "terms = terms[terms['artist_id']>25]"
   ]
  },
  {
   "cell_type": "code",
   "execution_count": null,
   "metadata": {
    "ExecuteTime": {
     "end_time": "2019-11-14T07:43:45.605431Z",
     "start_time": "2019-11-14T07:29:21.129469Z"
    }
   },
   "outputs": [],
   "source": [
    "# term_r2 = artist_db[artist_db.reset_index().groupby('term').count() > 25].index\n",
    "for term in terms.index:\n",
    "    genre_dist_garage = genre_dist[genre_dist['artist_id'].isin(artist_db[artist_db['term']==term].index)]\n",
    "    genre_dist_garage['score'] = genre_dist_garage['score'].astype(float)\n",
    "    terms.loc[term, 'r2'] = genre_dist_garage[['sim', 'score']].corr().iloc[0, 1]\n",
    "#     print(term, genre_dist_garage[['sim', 'score']].corr().iloc[0, 1])"
   ]
  },
  {
   "cell_type": "code",
   "execution_count": 146,
   "metadata": {
    "ExecuteTime": {
     "end_time": "2019-11-14T08:42:04.122086Z",
     "start_time": "2019-11-14T08:42:04.102829Z"
    }
   },
   "outputs": [
    {
     "data": {
      "text/html": [
       "<div>\n",
       "<style scoped>\n",
       "    .dataframe tbody tr th:only-of-type {\n",
       "        vertical-align: middle;\n",
       "    }\n",
       "\n",
       "    .dataframe tbody tr th {\n",
       "        vertical-align: top;\n",
       "    }\n",
       "\n",
       "    .dataframe thead th {\n",
       "        text-align: right;\n",
       "    }\n",
       "</style>\n",
       "<table border=\"1\" class=\"dataframe\">\n",
       "  <thead>\n",
       "    <tr style=\"text-align: right;\">\n",
       "      <th></th>\n",
       "      <th>count</th>\n",
       "      <th>r2</th>\n",
       "    </tr>\n",
       "    <tr>\n",
       "      <th>term</th>\n",
       "      <th></th>\n",
       "      <th></th>\n",
       "    </tr>\n",
       "  </thead>\n",
       "  <tbody>\n",
       "    <tr>\n",
       "      <td>gramophone</td>\n",
       "      <td>27</td>\n",
       "      <td>0.875906</td>\n",
       "    </tr>\n",
       "    <tr>\n",
       "      <td>music chain</td>\n",
       "      <td>30</td>\n",
       "      <td>0.823022</td>\n",
       "    </tr>\n",
       "    <tr>\n",
       "      <td>fingerstyle</td>\n",
       "      <td>49</td>\n",
       "      <td>0.664757</td>\n",
       "    </tr>\n",
       "    <tr>\n",
       "      <td>gramusels bluesrock</td>\n",
       "      <td>53</td>\n",
       "      <td>0.621124</td>\n",
       "    </tr>\n",
       "    <tr>\n",
       "      <td>southern metal</td>\n",
       "      <td>32</td>\n",
       "      <td>0.619500</td>\n",
       "    </tr>\n",
       "    <tr>\n",
       "      <td>wop</td>\n",
       "      <td>47</td>\n",
       "      <td>0.599548</td>\n",
       "    </tr>\n",
       "    <tr>\n",
       "      <td>blackened thrash metal</td>\n",
       "      <td>31</td>\n",
       "      <td>0.583349</td>\n",
       "    </tr>\n",
       "    <tr>\n",
       "      <td>barturismooth</td>\n",
       "      <td>35</td>\n",
       "      <td>0.562917</td>\n",
       "    </tr>\n",
       "    <tr>\n",
       "      <td>country divas</td>\n",
       "      <td>30</td>\n",
       "      <td>0.522163</td>\n",
       "    </tr>\n",
       "    <tr>\n",
       "      <td>musette</td>\n",
       "      <td>58</td>\n",
       "      <td>0.517341</td>\n",
       "    </tr>\n",
       "    <tr>\n",
       "      <td>slide guitar</td>\n",
       "      <td>60</td>\n",
       "      <td>0.515201</td>\n",
       "    </tr>\n",
       "    <tr>\n",
       "      <td>jewish</td>\n",
       "      <td>91</td>\n",
       "      <td>0.511151</td>\n",
       "    </tr>\n",
       "    <tr>\n",
       "      <td>nashville sound</td>\n",
       "      <td>32</td>\n",
       "      <td>0.496138</td>\n",
       "    </tr>\n",
       "    <tr>\n",
       "      <td>teppaz</td>\n",
       "      <td>39</td>\n",
       "      <td>0.487583</td>\n",
       "    </tr>\n",
       "    <tr>\n",
       "      <td>gothic punk</td>\n",
       "      <td>31</td>\n",
       "      <td>0.484353</td>\n",
       "    </tr>\n",
       "    <tr>\n",
       "      <td>middle east</td>\n",
       "      <td>76</td>\n",
       "      <td>0.480955</td>\n",
       "    </tr>\n",
       "    <tr>\n",
       "      <td>surreal</td>\n",
       "      <td>30</td>\n",
       "      <td>0.477417</td>\n",
       "    </tr>\n",
       "    <tr>\n",
       "      <td>jug band</td>\n",
       "      <td>52</td>\n",
       "      <td>0.463081</td>\n",
       "    </tr>\n",
       "    <tr>\n",
       "      <td>west coast blues</td>\n",
       "      <td>32</td>\n",
       "      <td>0.453020</td>\n",
       "    </tr>\n",
       "    <tr>\n",
       "      <td>swamp blues</td>\n",
       "      <td>31</td>\n",
       "      <td>0.444967</td>\n",
       "    </tr>\n",
       "  </tbody>\n",
       "</table>\n",
       "</div>"
      ],
      "text/plain": [
       "                        count        r2\n",
       "term                                   \n",
       "gramophone                 27  0.875906\n",
       "music chain                30  0.823022\n",
       "fingerstyle                49  0.664757\n",
       "gramusels bluesrock        53  0.621124\n",
       "southern metal             32  0.619500\n",
       "wop                        47  0.599548\n",
       "blackened thrash metal     31  0.583349\n",
       "barturismooth              35  0.562917\n",
       "country divas              30  0.522163\n",
       "musette                    58  0.517341\n",
       "slide guitar               60  0.515201\n",
       "jewish                     91  0.511151\n",
       "nashville sound            32  0.496138\n",
       "teppaz                     39  0.487583\n",
       "gothic punk                31  0.484353\n",
       "middle east                76  0.480955\n",
       "surreal                    30  0.477417\n",
       "jug band                   52  0.463081\n",
       "west coast blues           32  0.453020\n",
       "swamp blues                31  0.444967"
      ]
     },
     "execution_count": 146,
     "metadata": {},
     "output_type": "execute_result"
    }
   ],
   "source": [
    "terms.sort_values('r2', ascending=False).head(20).rename(columns={'artist_id':'count'})"
   ]
  },
  {
   "cell_type": "code",
   "execution_count": 144,
   "metadata": {
    "ExecuteTime": {
     "end_time": "2019-11-14T08:37:13.170966Z",
     "start_time": "2019-11-14T08:37:12.668627Z"
    }
   },
   "outputs": [
    {
     "data": {
      "text/plain": [
       "<matplotlib.collections.PathCollection at 0x7f89a19aba58>"
      ]
     },
     "execution_count": 144,
     "metadata": {},
     "output_type": "execute_result"
    },
    {
     "data": {
      "image/png": "[encoded data removed]",
      "text/plain": [
       "<Figure size 432x288 with 1 Axes>"
      ]
     },
     "metadata": {
      "needs_background": "light"
     },
     "output_type": "display_data"
    }
   ],
   "source": [
    "genre_dist_garage = genre_dist[genre_dist['artist_id'].isin(artist_db[artist_db['term']=='middle east'].index)]\n",
    "plt.scatter(genre_dist_garage['score'], genre_dist_garage['sim'])"
   ]
  },
  {
   "cell_type": "code",
   "execution_count": 136,
   "metadata": {
    "ExecuteTime": {
     "end_time": "2019-11-06T08:01:38.756766Z",
     "start_time": "2019-11-06T08:01:38.544896Z"
    }
   },
   "outputs": [
    {
     "data": {
      "text/plain": [
       "<matplotlib.axes._subplots.AxesSubplot at 0x7f21fad0fdd8>"
      ]
     },
     "execution_count": 136,
     "metadata": {},
     "output_type": "execute_result"
    },
    {
     "data": {
      "image/png": "[encoded data removed]",
      "text/plain": [
       "<Figure size 432x288 with 1 Axes>"
      ]
     },
     "metadata": {
      "needs_background": "light"
     },
     "output_type": "display_data"
    }
   ],
   "source": [
    "%matplotlib inline\n",
    "import matplotlib.pyplot as plt\n",
    "\n",
    "# plt.scatter(genre_dist['sim'], genre_dist['score'])\n",
    "genre_dist.boxplot(column='sim',by='score')"
   ]
  },
  {
   "cell_type": "code",
   "execution_count": 135,
   "metadata": {
    "ExecuteTime": {
     "end_time": "2019-11-05T19:58:50.008997Z",
     "start_time": "2019-11-05T19:58:49.282640Z"
    }
   },
   "outputs": [],
   "source": [
    "artist_dict = tracks_db[['artist_id','artist_name']].set_index('artist_id').iloc[:, 0].to_dict()"
   ]
  },
  {
   "cell_type": "code",
   "execution_count": 139,
   "metadata": {
    "ExecuteTime": {
     "end_time": "2019-11-05T19:59:53.632218Z",
     "start_time": "2019-11-05T19:59:53.522311Z"
    }
   },
   "outputs": [],
   "source": [
    "one_user['artist_name'] = one_user.apply(lambda x: artist_dict[x.artist_id], axis=1)"
   ]
  },
  {
   "cell_type": "code",
   "execution_count": 142,
   "metadata": {
    "ExecuteTime": {
     "end_time": "2019-11-05T20:08:05.047830Z",
     "start_time": "2019-11-05T20:08:05.014914Z"
    }
   },
   "outputs": [
    {
     "data": {
      "text/html": [
       "<div>\n",
       "<style scoped>\n",
       "    .dataframe tbody tr th:only-of-type {\n",
       "        vertical-align: middle;\n",
       "    }\n",
       "\n",
       "    .dataframe tbody tr th {\n",
       "        vertical-align: top;\n",
       "    }\n",
       "\n",
       "    .dataframe thead th {\n",
       "        text-align: right;\n",
       "    }\n",
       "</style>\n",
       "<table border=\"1\" class=\"dataframe\">\n",
       "  <thead>\n",
       "    <tr style=\"text-align: right;\">\n",
       "      <th></th>\n",
       "      <th>user_id</th>\n",
       "      <th>artist_id</th>\n",
       "      <th>play_count</th>\n",
       "      <th>artist_name</th>\n",
       "    </tr>\n",
       "  </thead>\n",
       "  <tbody>\n",
       "    <tr>\n",
       "      <td>6</td>\n",
       "      <td>0049dafc81298728192fd26feddb8c199f693841</td>\n",
       "      <td>ARAXU5Z1187B98FECD</td>\n",
       "      <td>4.0</td>\n",
       "      <td>Gorillaz</td>\n",
       "    </tr>\n",
       "    <tr>\n",
       "      <td>22</td>\n",
       "      <td>0049dafc81298728192fd26feddb8c199f693841</td>\n",
       "      <td>ART50HO1187FB4D0ED</td>\n",
       "      <td>4.0</td>\n",
       "      <td>Abba</td>\n",
       "    </tr>\n",
       "    <tr>\n",
       "      <td>0</td>\n",
       "      <td>0049dafc81298728192fd26feddb8c199f693841</td>\n",
       "      <td>AR02YGA1187B9B8AC4</td>\n",
       "      <td>3.0</td>\n",
       "      <td>Bersuit Vergarabat</td>\n",
       "    </tr>\n",
       "    <tr>\n",
       "      <td>14</td>\n",
       "      <td>0049dafc81298728192fd26feddb8c199f693841</td>\n",
       "      <td>ARIUA0B1187B9A08D5</td>\n",
       "      <td>3.0</td>\n",
       "      <td>Chambao</td>\n",
       "    </tr>\n",
       "    <tr>\n",
       "      <td>5</td>\n",
       "      <td>0049dafc81298728192fd26feddb8c199f693841</td>\n",
       "      <td>AR8SRQ31187FB4D477</td>\n",
       "      <td>3.0</td>\n",
       "      <td>Ten Years After</td>\n",
       "    </tr>\n",
       "    <tr>\n",
       "      <td>...</td>\n",
       "      <td>...</td>\n",
       "      <td>...</td>\n",
       "      <td>...</td>\n",
       "      <td>...</td>\n",
       "    </tr>\n",
       "    <tr>\n",
       "      <td>23</td>\n",
       "      <td>0049dafc81298728192fd26feddb8c199f693841</td>\n",
       "      <td>ARTW7I31187B9A4CA9</td>\n",
       "      <td>1.0</td>\n",
       "      <td>!!!</td>\n",
       "    </tr>\n",
       "    <tr>\n",
       "      <td>7</td>\n",
       "      <td>0049dafc81298728192fd26feddb8c199f693841</td>\n",
       "      <td>ARBLDRW1187B9A05A1</td>\n",
       "      <td>1.0</td>\n",
       "      <td>The Kills</td>\n",
       "    </tr>\n",
       "    <tr>\n",
       "      <td>4</td>\n",
       "      <td>0049dafc81298728192fd26feddb8c199f693841</td>\n",
       "      <td>AR5TZFO1187B98E58E</td>\n",
       "      <td>1.0</td>\n",
       "      <td>Jedi Mind Tricks</td>\n",
       "    </tr>\n",
       "    <tr>\n",
       "      <td>24</td>\n",
       "      <td>0049dafc81298728192fd26feddb8c199f693841</td>\n",
       "      <td>ARXXACJ1187FB4BFD1</td>\n",
       "      <td>1.0</td>\n",
       "      <td>Trevor Hall</td>\n",
       "    </tr>\n",
       "    <tr>\n",
       "      <td>12</td>\n",
       "      <td>0049dafc81298728192fd26feddb8c199f693841</td>\n",
       "      <td>ARGUAHS11F50C4CF7D</td>\n",
       "      <td>1.0</td>\n",
       "      <td>Los Traileros Del Norte</td>\n",
       "    </tr>\n",
       "  </tbody>\n",
       "</table>\n",
       "<p>4853 rows × 4 columns</p>\n",
       "</div>"
      ],
      "text/plain": [
       "                                     user_id           artist_id  play_count  \\\n",
       "6   0049dafc81298728192fd26feddb8c199f693841  ARAXU5Z1187B98FECD         4.0   \n",
       "22  0049dafc81298728192fd26feddb8c199f693841  ART50HO1187FB4D0ED         4.0   \n",
       "0   0049dafc81298728192fd26feddb8c199f693841  AR02YGA1187B9B8AC4         3.0   \n",
       "14  0049dafc81298728192fd26feddb8c199f693841  ARIUA0B1187B9A08D5         3.0   \n",
       "5   0049dafc81298728192fd26feddb8c199f693841  AR8SRQ31187FB4D477         3.0   \n",
       "..                                       ...                 ...         ...   \n",
       "23  0049dafc81298728192fd26feddb8c199f693841  ARTW7I31187B9A4CA9         1.0   \n",
       "7   0049dafc81298728192fd26feddb8c199f693841  ARBLDRW1187B9A05A1         1.0   \n",
       "4   0049dafc81298728192fd26feddb8c199f693841  AR5TZFO1187B98E58E         1.0   \n",
       "24  0049dafc81298728192fd26feddb8c199f693841  ARXXACJ1187FB4BFD1         1.0   \n",
       "12  0049dafc81298728192fd26feddb8c199f693841  ARGUAHS11F50C4CF7D         1.0   \n",
       "\n",
       "                artist_name  \n",
       "6                  Gorillaz  \n",
       "22                     Abba  \n",
       "0        Bersuit Vergarabat  \n",
       "14                  Chambao  \n",
       "5           Ten Years After  \n",
       "..                      ...  \n",
       "23                      !!!  \n",
       "7                 The Kills  \n",
       "4          Jedi Mind Tricks  \n",
       "24              Trevor Hall  \n",
       "12  Los Traileros Del Norte  \n",
       "\n",
       "[4853 rows x 4 columns]"
      ]
     },
     "execution_count": 142,
     "metadata": {},
     "output_type": "execute_result"
    }
   ],
   "source": [
    "one_user.sort_values('play_count', ascending=False)"
   ]
  },
  {
   "cell_type": "markdown",
   "metadata": {},
   "source": [
    "## FIM"
   ]
  },
  {
   "cell_type": "code",
   "execution_count": 101,
   "metadata": {
    "ExecuteTime": {
     "end_time": "2019-11-05T19:36:50.254135Z",
     "start_time": "2019-11-05T19:36:50.245083Z"
    }
   },
   "outputs": [],
   "source": [
    "FIM_res = pd.read_pickle('ante_cons_FIM.pickle')"
   ]
  },
  {
   "cell_type": "code",
   "execution_count": 102,
   "metadata": {
    "ExecuteTime": {
     "end_time": "2019-11-05T19:36:54.168013Z",
     "start_time": "2019-11-05T19:36:54.143167Z"
    }
   },
   "outputs": [
    {
     "data": {
      "text/html": [
       "<div>\n",
       "<style scoped>\n",
       "    .dataframe tbody tr th:only-of-type {\n",
       "        vertical-align: middle;\n",
       "    }\n",
       "\n",
       "    .dataframe tbody tr th {\n",
       "        vertical-align: top;\n",
       "    }\n",
       "\n",
       "    .dataframe thead th {\n",
       "        text-align: right;\n",
       "    }\n",
       "</style>\n",
       "<table border=\"1\" class=\"dataframe\">\n",
       "  <thead>\n",
       "    <tr style=\"text-align: right;\">\n",
       "      <th></th>\n",
       "      <th>consequents</th>\n",
       "      <th>antecedents</th>\n",
       "      <th>consequent support</th>\n",
       "      <th>antecedent support</th>\n",
       "      <th>support</th>\n",
       "      <th>confidence</th>\n",
       "      <th>lift</th>\n",
       "    </tr>\n",
       "  </thead>\n",
       "  <tbody>\n",
       "    <tr>\n",
       "      <td>105</td>\n",
       "      <td>Usher featuring will.i.am</td>\n",
       "      <td>(Charttraxx Karaoke, Train, Harmonia)</td>\n",
       "      <td>0.027139</td>\n",
       "      <td>0.010056</td>\n",
       "      <td>0.006134</td>\n",
       "      <td>0.609974</td>\n",
       "      <td>22.475518</td>\n",
       "    </tr>\n",
       "    <tr>\n",
       "      <td>104</td>\n",
       "      <td>Usher featuring will.i.am</td>\n",
       "      <td>(Charttraxx Karaoke, Train, OneRepublic)</td>\n",
       "      <td>0.027139</td>\n",
       "      <td>0.010186</td>\n",
       "      <td>0.006188</td>\n",
       "      <td>0.607464</td>\n",
       "      <td>22.383063</td>\n",
       "    </tr>\n",
       "    <tr>\n",
       "      <td>78</td>\n",
       "      <td>Charttraxx Karaoke</td>\n",
       "      <td>(Train, Harmonia, Florence + The Machine)</td>\n",
       "      <td>0.034798</td>\n",
       "      <td>0.010719</td>\n",
       "      <td>0.007487</td>\n",
       "      <td>0.698488</td>\n",
       "      <td>20.072768</td>\n",
       "    </tr>\n",
       "    <tr>\n",
       "      <td>73</td>\n",
       "      <td>Charttraxx Karaoke</td>\n",
       "      <td>(Train, OneRepublic, Florence + The Machine)</td>\n",
       "      <td>0.034798</td>\n",
       "      <td>0.011098</td>\n",
       "      <td>0.007687</td>\n",
       "      <td>0.692626</td>\n",
       "      <td>19.904293</td>\n",
       "    </tr>\n",
       "    <tr>\n",
       "      <td>82</td>\n",
       "      <td>Charttraxx Karaoke</td>\n",
       "      <td>(Train, Harmonia, OneRepublic)</td>\n",
       "      <td>0.034798</td>\n",
       "      <td>0.011988</td>\n",
       "      <td>0.008181</td>\n",
       "      <td>0.682452</td>\n",
       "      <td>19.611929</td>\n",
       "    </tr>\n",
       "  </tbody>\n",
       "</table>\n",
       "</div>"
      ],
      "text/plain": [
       "                   consequents                                   antecedents  \\\n",
       "105  Usher featuring will.i.am         (Charttraxx Karaoke, Train, Harmonia)   \n",
       "104  Usher featuring will.i.am      (Charttraxx Karaoke, Train, OneRepublic)   \n",
       "78          Charttraxx Karaoke     (Train, Harmonia, Florence + The Machine)   \n",
       "73          Charttraxx Karaoke  (Train, OneRepublic, Florence + The Machine)   \n",
       "82          Charttraxx Karaoke                (Train, Harmonia, OneRepublic)   \n",
       "\n",
       "     consequent support  antecedent support   support  confidence       lift  \n",
       "105            0.027139            0.010056  0.006134    0.609974  22.475518  \n",
       "104            0.027139            0.010186  0.006188    0.607464  22.383063  \n",
       "78             0.034798            0.010719  0.007487    0.698488  20.072768  \n",
       "73             0.034798            0.011098  0.007687    0.692626  19.904293  \n",
       "82             0.034798            0.011988  0.008181    0.682452  19.611929  "
      ]
     },
     "execution_count": 102,
     "metadata": {},
     "output_type": "execute_result"
    }
   ],
   "source": [
    "FIM_res.head()"
   ]
  },
  {
   "cell_type": "code",
   "execution_count": 99,
   "metadata": {
    "ExecuteTime": {
     "end_time": "2019-11-05T19:25:45.163025Z",
     "start_time": "2019-11-05T19:25:45.145675Z"
    }
   },
   "outputs": [
    {
     "data": {
      "text/html": [
       "<div>\n",
       "<style scoped>\n",
       "    .dataframe tbody tr th:only-of-type {\n",
       "        vertical-align: middle;\n",
       "    }\n",
       "\n",
       "    .dataframe tbody tr th {\n",
       "        vertical-align: top;\n",
       "    }\n",
       "\n",
       "    .dataframe thead th {\n",
       "        text-align: right;\n",
       "    }\n",
       "</style>\n",
       "<table border=\"1\" class=\"dataframe\">\n",
       "  <thead>\n",
       "    <tr style=\"text-align: right;\">\n",
       "      <th></th>\n",
       "      <th>term</th>\n",
       "    </tr>\n",
       "    <tr>\n",
       "      <th>artist_id</th>\n",
       "      <th></th>\n",
       "    </tr>\n",
       "  </thead>\n",
       "  <tbody>\n",
       "    <tr>\n",
       "      <td>AR002UA1187B9A637D</td>\n",
       "      <td>garage rock</td>\n",
       "    </tr>\n",
       "    <tr>\n",
       "      <td>AR002UA1187B9A637D</td>\n",
       "      <td>country rock</td>\n",
       "    </tr>\n",
       "    <tr>\n",
       "      <td>AR002UA1187B9A637D</td>\n",
       "      <td>free jazz</td>\n",
       "    </tr>\n",
       "    <tr>\n",
       "      <td>AR002UA1187B9A637D</td>\n",
       "      <td>oi</td>\n",
       "    </tr>\n",
       "    <tr>\n",
       "      <td>AR002UA1187B9A637D</td>\n",
       "      <td>space rock</td>\n",
       "    </tr>\n",
       "    <tr>\n",
       "      <td>...</td>\n",
       "      <td>...</td>\n",
       "    </tr>\n",
       "    <tr>\n",
       "      <td>ARZZZKG1271F573BC4</td>\n",
       "      <td>heavy</td>\n",
       "    </tr>\n",
       "    <tr>\n",
       "      <td>ARZZZKG1271F573BC4</td>\n",
       "      <td>dark</td>\n",
       "    </tr>\n",
       "    <tr>\n",
       "      <td>ARZZZKG1271F573BC4</td>\n",
       "      <td>instrumental</td>\n",
       "    </tr>\n",
       "    <tr>\n",
       "      <td>ARZZZKG1271F573BC4</td>\n",
       "      <td>beautiful</td>\n",
       "    </tr>\n",
       "    <tr>\n",
       "      <td>ARZZZKG1271F573BC4</td>\n",
       "      <td>guitar</td>\n",
       "    </tr>\n",
       "  </tbody>\n",
       "</table>\n",
       "<p>1109381 rows × 1 columns</p>\n",
       "</div>"
      ],
      "text/plain": [
       "                            term\n",
       "artist_id                       \n",
       "AR002UA1187B9A637D   garage rock\n",
       "AR002UA1187B9A637D  country rock\n",
       "AR002UA1187B9A637D     free jazz\n",
       "AR002UA1187B9A637D            oi\n",
       "AR002UA1187B9A637D    space rock\n",
       "...                          ...\n",
       "ARZZZKG1271F573BC4         heavy\n",
       "ARZZZKG1271F573BC4          dark\n",
       "ARZZZKG1271F573BC4  instrumental\n",
       "ARZZZKG1271F573BC4     beautiful\n",
       "ARZZZKG1271F573BC4        guitar\n",
       "\n",
       "[1109381 rows x 1 columns]"
      ]
     },
     "execution_count": 99,
     "metadata": {},
     "output_type": "execute_result"
    }
   ],
   "source": [
    "artist_db"
   ]
  },
  {
   "cell_type": "code",
   "execution_count": null,
   "metadata": {},
   "outputs": [],
   "source": []
  }
 ],
 "metadata": {
  "kernelspec": {
   "display_name": "Python 3",
   "language": "python",
   "name": "python3"
  },
  "language_info": {
   "codemirror_mode": {
    "name": "ipython",
    "version": 3
   },
   "file_extension": ".py",
   "mimetype": "text/x-python",
   "name": "python",
   "nbconvert_exporter": "python",
   "pygments_lexer": "ipython3",
   "version": "3.7.5"
  },
  "toc": {
   "base_numbering": 1,
   "nav_menu": {},
   "number_sections": false,
   "sideBar": true,
   "skip_h1_title": false,
   "title_cell": "Table of Contents",
   "title_sidebar": "Contents",
   "toc_cell": false,
   "toc_position": {},
   "toc_section_display": true,
   "toc_window_display": false
  },
  "varInspector": {
   "cols": {
    "lenName": 16,
    "lenType": 16,
    "lenVar": 40
   },
   "kernels_config": {
    "python": {
     "delete_cmd_postfix": "",
     "delete_cmd_prefix": "del ",
     "library": "var_list.py",
     "varRefreshCmd": "print(var_dic_list())"
    },
    "r": {
     "delete_cmd_postfix": ") ",
     "delete_cmd_prefix": "rm(",
     "library": "var_list.r",
     "varRefreshCmd": "cat(var_dic_list()) "
    }
   },
   "types_to_exclude": [
    "module",
    "function",
    "builtin_function_or_method",
    "instance",
    "_Feature"
   ],
   "window_display": false
  }
 },
 "nbformat": 4,
 "nbformat_minor": 2
}
